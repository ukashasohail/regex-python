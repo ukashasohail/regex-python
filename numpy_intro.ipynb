{
  "nbformat": 4,
  "nbformat_minor": 0,
  "metadata": {
    "colab": {
      "name": "numpy_intro.ipynb",
      "provenance": [],
      "authorship_tag": "ABX9TyP/o86xpCy0sLmVAgJQhhEV",
      "include_colab_link": true
    },
    "kernelspec": {
      "name": "python3",
      "display_name": "Python 3"
    }
  },
  "cells": [
    {
      "cell_type": "markdown",
      "metadata": {
        "id": "view-in-github",
        "colab_type": "text"
      },
      "source": [
        "<a href=\"https://colab.research.google.com/github/ukashasohail/regex-python/blob/master/numpy_intro.ipynb\" target=\"_parent\"><img src=\"https://colab.research.google.com/assets/colab-badge.svg\" alt=\"Open In Colab\"/></a>"
      ]
    },
    {
      "cell_type": "code",
      "metadata": {
        "id": "UchN88C_p-UE"
      },
      "source": [
        "import numpy as np\n"
      ],
      "execution_count": null,
      "outputs": []
    },
    {
      "cell_type": "code",
      "metadata": {
        "colab": {
          "base_uri": "https://localhost:8080/"
        },
        "id": "S0-EhqPArJLK",
        "outputId": "79031d9a-4a73-40d7-bc5c-9442dd9cf1ac"
      },
      "source": [
        "# creating a np array\n",
        "my_array = np.array([[6,5,6],[5,8,7]])\n",
        "print(my_array)"
      ],
      "execution_count": 4,
      "outputs": [
        {
          "output_type": "stream",
          "text": [
            "[[6 5 6]\n",
            " [5 8 7]]\n"
          ],
          "name": "stdout"
        }
      ]
    },
    {
      "cell_type": "code",
      "metadata": {
        "colab": {
          "base_uri": "https://localhost:8080/"
        },
        "id": "0xXJsMqNryCv",
        "outputId": "ec472771-fee9-418d-faee-2d0cc7b78146"
      },
      "source": [
        "# np array properties\n",
        "print(my_array.ndim)\n",
        "print(my_array.shape)\n",
        "print(my_array.dtype)\n",
        "print(my_array.itemsize)\n",
        "print(my_array.nbytes)\n"
      ],
      "execution_count": 6,
      "outputs": [
        {
          "output_type": "stream",
          "text": [
            "2\n",
            "(2, 3)\n",
            "int64\n",
            "8\n",
            "48\n"
          ],
          "name": "stdout"
        }
      ]
    },
    {
      "cell_type": "code",
      "metadata": {
        "colab": {
          "base_uri": "https://localhost:8080/"
        },
        "id": "Rma5QQ6Kr2vz",
        "outputId": "15b75565-44f1-4539-c688-bfe0a1576eb9"
      },
      "source": [
        "# accessing elements in np array\n",
        "array_1 = np.array([[2,6,9,7,5,6,0,5],[2,6,96,4,5,3,7,8]])\n",
        "print(array_1)''"
      ],
      "execution_count": 8,
      "outputs": [
        {
          "output_type": "stream",
          "text": [
            "[[ 2  6  9  7  5  6  0  5]\n",
            " [ 2  6 96  4  5  3  7  8]]\n"
          ],
          "name": "stdout"
        }
      ]
    },
    {
      "cell_type": "code",
      "metadata": {
        "colab": {
          "base_uri": "https://localhost:8080/"
        },
        "id": "WkHM2PGdsz3C",
        "outputId": "fbb09712-8b6e-4a49-a01d-2dc280a84bc1"
      },
      "source": [
        "# access a certain elements\n",
        "element0 = array_1[0,5]\n",
        "print(element0)"
      ],
      "execution_count": 9,
      "outputs": [
        {
          "output_type": "stream",
          "text": [
            "6\n"
          ],
          "name": "stdout"
        }
      ]
    },
    {
      "cell_type": "code",
      "metadata": {
        "colab": {
          "base_uri": "https://localhost:8080/"
        },
        "id": "lRvi1GELtPbD",
        "outputId": "0f4dc816-c574-4b53-8b81-e781f2be9ecb"
      },
      "source": [
        "# access a entire row\n",
        "row0 = array_1[0,:]\n",
        "print(row0)\n",
        "\n",
        "# access an entire column\n",
        "column0 = array_1[:, 1]\n",
        "print(column0)"
      ],
      "execution_count": 11,
      "outputs": [
        {
          "output_type": "stream",
          "text": [
            "[2 6 9 7 5 6 0 5]\n",
            "[6 6]\n"
          ],
          "name": "stdout"
        }
      ]
    },
    {
      "cell_type": "code",
      "metadata": {
        "colab": {
          "base_uri": "https://localhost:8080/"
        },
        "id": "695fIXfnt1Wb",
        "outputId": "e4b91d50-1387-4a72-defd-0ff1c0af865d"
      },
      "source": [
        "# slicing np array\n",
        "slice0 = array_1[:, 2:5]\n",
        "print(slice0)"
      ],
      "execution_count": 14,
      "outputs": [
        {
          "output_type": "stream",
          "text": [
            "[[ 9  7  5]\n",
            " [96  4  5]]\n"
          ],
          "name": "stdout"
        }
      ]
    },
    {
      "cell_type": "code",
      "metadata": {
        "colab": {
          "base_uri": "https://localhost:8080/"
        },
        "id": "XKmAO5oQvnCR",
        "outputId": "6e9595ab-b2ac-4deb-a625-35bdaf912c64"
      },
      "source": [
        "# mutating elements of np array\n",
        "array_1[1,5] = 100\n",
        "print(array_1)"
      ],
      "execution_count": 15,
      "outputs": [
        {
          "output_type": "stream",
          "text": [
            "[[  2   6   9   7   5   6   0   5]\n",
            " [  2   6  96   4   5 100   7   8]]\n"
          ],
          "name": "stdout"
        }
      ]
    }
  ]
}