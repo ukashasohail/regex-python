{
  "nbformat": 4,
  "nbformat_minor": 0,
  "metadata": {
    "colab": {
      "name": "linear_algebra_numpy.ipynb",
      "provenance": [],
      "authorship_tag": "ABX9TyO6fFzVMmnvH5tsicUQnhBB"
    },
    "kernelspec": {
      "name": "python3",
      "display_name": "Python 3"
    }
  },
  "cells": [
    {
      "cell_type": "code",
      "metadata": {
        "id": "lBCDx42G-iXn"
      },
      "source": [
        "import numpy as np"
      ],
      "execution_count": 1,
      "outputs": []
    },
    {
      "cell_type": "code",
      "metadata": {
        "colab": {
          "base_uri": "https://localhost:8080/"
        },
        "id": "yZKjv8_V-q_B",
        "outputId": "13f21a3b-b953-475c-85e6-b763da6ba5d8"
      },
      "source": [
        "a = np.ones((3,3))\n",
        "print(a)\n",
        "\n",
        "b = np.full((3,3),5)\n",
        "print(b)\n",
        "\n",
        "np.matmul(a,b)"
      ],
      "execution_count": 4,
      "outputs": [
        {
          "output_type": "stream",
          "text": [
            "[[1. 1. 1.]\n",
            " [1. 1. 1.]\n",
            " [1. 1. 1.]]\n",
            "[[5 5 5]\n",
            " [5 5 5]\n",
            " [5 5 5]]\n"
          ],
          "name": "stdout"
        },
        {
          "output_type": "execute_result",
          "data": {
            "text/plain": [
              "array([[15., 15., 15.],\n",
              "       [15., 15., 15.],\n",
              "       [15., 15., 15.]])"
            ]
          },
          "metadata": {
            "tags": []
          },
          "execution_count": 4
        }
      ]
    },
    {
      "cell_type": "code",
      "metadata": {
        "colab": {
          "base_uri": "https://localhost:8080/"
        },
        "id": "e9btZKLo_Ud6",
        "outputId": "7698a919-1cee-476f-8e5b-96710fc496f9"
      },
      "source": [
        "np.linalg.det(a)"
      ],
      "execution_count": 5,
      "outputs": [
        {
          "output_type": "execute_result",
          "data": {
            "text/plain": [
              "0.0"
            ]
          },
          "metadata": {
            "tags": []
          },
          "execution_count": 5
        }
      ]
    }
  ]
}